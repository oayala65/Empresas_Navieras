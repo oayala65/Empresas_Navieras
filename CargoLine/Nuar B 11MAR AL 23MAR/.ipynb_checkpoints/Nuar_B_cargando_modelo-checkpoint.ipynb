{
 "cells": [
  {
   "cell_type": "code",
   "execution_count": 1,
   "id": "d3ba968d",
   "metadata": {},
   "outputs": [],
   "source": [
    "import pandas as pd\n",
    "import numpy as np\n",
    "import matplotlib.pyplot as plt\n",
    "import seaborn as sns\n",
    "from sklearn.model_selection import train_test_split\n",
    "from sklearn.linear_model import LinearRegression\n",
    "from sklearn.impute import SimpleImputer\n",
    "from sklearn.tree import DecisionTreeRegressor\n",
    "from sklearn.ensemble import RandomForestRegressor\n",
    "from sklearn.ensemble import GradientBoostingRegressor\n",
    "from catboost import CatBoostRegressor, Pool\n",
    "from sklearn.metrics import mean_squared_error, r2_score,mean_absolute_error"
   ]
  },
  {
   "cell_type": "code",
   "execution_count": 2,
   "id": "2d91adb9",
   "metadata": {},
   "outputs": [
    {
     "data": {
      "text/plain": [
       "<catboost.core.CatBoostRegressor at 0x7f64d8318790>"
      ]
     },
     "execution_count": 2,
     "metadata": {},
     "output_type": "execute_result"
    }
   ],
   "source": [
    "from catboost import CatBoostRegressor\n",
    "\n",
    "# Cargar el modelo desde archivo\n",
    "model_BR = CatBoostRegressor()\n",
    "model_BR.load_model(\"modelo_NUAR_B_NO_KERAS_BR.cbm\")\n",
    "\n",
    "model_STB = CatBoostRegressor()\n",
    "model_STB.load_model(\"modelo_NUAR_B_NO_KERAS_STB.cbm\")\n"
   ]
  },
  {
   "cell_type": "code",
   "execution_count": 3,
   "id": "6a3c67eb",
   "metadata": {},
   "outputs": [
    {
     "name": "stderr",
     "output_type": "stream",
     "text": [
      "/tmp/ipykernel_24223/127357692.py:1: UserWarning: Parsing dates in %d-%m-%Y %H:%M:%S format when dayfirst=False (the default) was specified. Pass `dayfirst=True` or specify a format to silence this warning.\n",
      "  df=pd.read_excel('NUAR-B_04_04_2025-23_22_36_convertio.xlsx',parse_dates=[\"DATE/TIME(America/Asuncion)\"])\n"
     ]
    }
   ],
   "source": [
    "df=pd.read_excel('NUAR-B_04_04_2025-23_22_36_convertio.xlsx',parse_dates=[\"DATE/TIME(America/Asuncion)\"])\n",
    "\n",
    "# Extraemos los componentes\n",
    "\n",
    "df['dia'] = df['DATE/TIME(America/Asuncion)'].dt.day\n",
    "df['mes'] = df['DATE/TIME(America/Asuncion)'].dt.month\n",
    "df['año'] = df['DATE/TIME(America/Asuncion)'].dt.year\n",
    "df['hora'] = df['DATE/TIME(America/Asuncion)'].dt.hour\n",
    "df['minuto'] = df['DATE/TIME(America/Asuncion)'].dt.minute\n",
    "df['segundo'] = df['DATE/TIME(America/Asuncion)'].dt.second\n",
    "\n",
    "df=df.drop('DATE/TIME(America/Asuncion)',axis=1)"
   ]
  },
  {
   "cell_type": "code",
   "execution_count": 4,
   "id": "46492404",
   "metadata": {},
   "outputs": [],
   "source": [
    "# Definir variables de entrada y salida\n",
    "X = df.drop(columns=[\"Flow Rate Prop. BR\", \"Flow Rate Prop. STB\"])\n",
    "feature_names=X.columns\n",
    "y_BR = df[\"Flow Rate Prop. BR\"]\n",
    "y_STB = df[\"Flow Rate Prop. STB\"]"
   ]
  },
  {
   "cell_type": "code",
   "execution_count": 5,
   "id": "026323f1",
   "metadata": {},
   "outputs": [],
   "source": [
    "# Manejar valores nulos con la mediana\n",
    "imputer = SimpleImputer(strategy=\"median\")\n",
    "\n",
    "X_imputed = imputer.fit_transform(X)\n",
    "\n",
    "# 4. Volver a convertir a DataFrame si querés conservar nombres\n",
    "X_imputed = pd.DataFrame(X_imputed, columns=feature_names)\n",
    "\n",
    "y_BR = imputer.fit_transform(y_BR.to_frame())\n",
    "y_STB = imputer.fit_transform(y_STB.to_frame())"
   ]
  },
  {
   "cell_type": "code",
   "execution_count": 6,
   "id": "cd65f0b5",
   "metadata": {},
   "outputs": [],
   "source": [
    "# Dividir los datos en entrenamiento y prueba\n",
    "X_train, X_test, y_train_BR, y_test_BR = train_test_split(X_imputed, y_BR, test_size=0.4, shuffle=True,random_state=24)\n",
    "X_train, X_test, y_train_STB, y_test_STB = train_test_split(X_imputed, y_STB, test_size=0.4, shuffle=True,random_state=24)\n",
    "\n",
    "# from sklearn.preprocessing import StandardScaler\n",
    "# # Normalizar los datos\n",
    "# scaler = StandardScaler()\n",
    "\n",
    "# X_train_scaled = scaler.fit_transform(X_train)\n",
    "# X_test_scaled = scaler.transform(X_test)"
   ]
  },
  {
   "cell_type": "code",
   "execution_count": 7,
   "id": "d52bb1a4",
   "metadata": {},
   "outputs": [],
   "source": [
    "# Predicciones en el conjunto de prueba\n",
    "\n",
    "# y_pred_BR = model_BR.predict(X_test_scaled)\n",
    "# y_pred_STB = model_STB.predict(X_test_scaled)\n",
    "\n",
    "\n",
    "y_pred_BR = model_BR.predict(X_test)\n",
    "y_pred_STB = model_STB.predict(X_test)"
   ]
  },
  {
   "cell_type": "code",
   "execution_count": 9,
   "id": "e2aa5f95",
   "metadata": {
    "scrolled": true
   },
   "outputs": [
    {
     "name": "stdout",
     "output_type": "stream",
     "text": [
      "Flow Rate Prop. BR:\n",
      "MAE: 70.23\n",
      "MSE: 5854.07\n",
      "RMSE: 76.51\n",
      "R²: -0.0720\n",
      "\n",
      "Flow Rate Prop. STB:\n",
      "MAE: 77.12\n",
      "MSE: 6368.78\n",
      "RMSE: 79.80\n",
      "R²: -0.2848\n"
     ]
    }
   ],
   "source": [
    "# Métricas para BR\n",
    "print(\"Flow Rate Prop. BR:\")\n",
    "print(f\"MAE: {mean_absolute_error(y_test_BR, y_pred_BR):.2f}\")\n",
    "print(f\"MSE: {mean_squared_error(y_test_BR, y_pred_BR):.2f}\")\n",
    "print(f\"RMSE: {np.sqrt(mean_squared_error(y_test_BR, y_pred_BR)):.2f}\")\n",
    "print(f\"R²: {r2_score(y_test_BR, y_pred_BR):.4f}\\n\")\n",
    "\n",
    "# Métricas para STB\n",
    "print(\"Flow Rate Prop. STB:\")\n",
    "print(f\"MAE: {mean_absolute_error(y_test_STB, y_pred_STB):.2f}\")\n",
    "print(f\"MSE: {mean_squared_error(y_test_STB, y_pred_STB):.2f}\")\n",
    "print(f\"RMSE: {np.sqrt(mean_squared_error(y_test_STB, y_pred_STB)):.2f}\")\n",
    "print(f\"R²: {r2_score(y_test_STB, y_pred_STB):.4f}\")\n"
   ]
  },
  {
   "cell_type": "code",
   "execution_count": null,
   "id": "d52feef8",
   "metadata": {},
   "outputs": [],
   "source": []
  },
  {
   "cell_type": "code",
   "execution_count": null,
   "id": "1bf0c2b5",
   "metadata": {},
   "outputs": [],
   "source": []
  }
 ],
 "metadata": {
  "kernelspec": {
   "display_name": "py310",
   "language": "python",
   "name": "py310"
  },
  "language_info": {
   "codemirror_mode": {
    "name": "ipython",
    "version": 3
   },
   "file_extension": ".py",
   "mimetype": "text/x-python",
   "name": "python",
   "nbconvert_exporter": "python",
   "pygments_lexer": "ipython3",
   "version": "3.10.16"
  }
 },
 "nbformat": 4,
 "nbformat_minor": 5
}
