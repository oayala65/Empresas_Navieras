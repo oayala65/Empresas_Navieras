{
 "cells": [
  {
   "cell_type": "code",
   "execution_count": 1,
   "id": "93da2b24",
   "metadata": {},
   "outputs": [
    {
     "name": "stderr",
     "output_type": "stream",
     "text": [
      "2025-04-27 18:01:49.882742: I external/local_xla/xla/tsl/cuda/cudart_stub.cc:32] Could not find cuda drivers on your machine, GPU will not be used.\n",
      "2025-04-27 18:01:49.886595: I external/local_xla/xla/tsl/cuda/cudart_stub.cc:32] Could not find cuda drivers on your machine, GPU will not be used.\n",
      "2025-04-27 18:01:49.898468: E external/local_xla/xla/stream_executor/cuda/cuda_fft.cc:467] Unable to register cuFFT factory: Attempting to register factory for plugin cuFFT when one has already been registered\n",
      "WARNING: All log messages before absl::InitializeLog() is called are written to STDERR\n",
      "E0000 00:00:1745787709.919106  106460 cuda_dnn.cc:8579] Unable to register cuDNN factory: Attempting to register factory for plugin cuDNN when one has already been registered\n",
      "E0000 00:00:1745787709.924765  106460 cuda_blas.cc:1407] Unable to register cuBLAS factory: Attempting to register factory for plugin cuBLAS when one has already been registered\n",
      "W0000 00:00:1745787709.939732  106460 computation_placer.cc:177] computation placer already registered. Please check linkage and avoid linking the same target more than once.\n",
      "W0000 00:00:1745787709.939755  106460 computation_placer.cc:177] computation placer already registered. Please check linkage and avoid linking the same target more than once.\n",
      "W0000 00:00:1745787709.939757  106460 computation_placer.cc:177] computation placer already registered. Please check linkage and avoid linking the same target more than once.\n",
      "W0000 00:00:1745787709.939759  106460 computation_placer.cc:177] computation placer already registered. Please check linkage and avoid linking the same target more than once.\n",
      "2025-04-27 18:01:49.945049: I tensorflow/core/platform/cpu_feature_guard.cc:210] This TensorFlow binary is optimized to use available CPU instructions in performance-critical operations.\n",
      "To enable the following instructions: AVX2 FMA, in other operations, rebuild TensorFlow with the appropriate compiler flags.\n",
      "2025-04-27 18:01:51.904876: E external/local_xla/xla/stream_executor/cuda/cuda_platform.cc:51] failed call to cuInit: INTERNAL: CUDA error: Failed call to cuInit: UNKNOWN ERROR (303)\n",
      "/home/walnut/anaconda3/envs/py310/lib/python3.10/site-packages/keras/src/saving/saving_lib.py:757: UserWarning: Skipping variable loading for optimizer 'rmsprop', because it has 8 variables whereas the saved optimizer has 14 variables. \n",
      "  saveable.load_own_variables(weights_store.get(inner_path))\n"
     ]
    }
   ],
   "source": [
    "import pandas as pd\n",
    "import numpy as np\n",
    "import matplotlib.pyplot as plt\n",
    "from sklearn.impute import SimpleImputer\n",
    "from sklearn.preprocessing import StandardScaler\n",
    "from sklearn.metrics import mean_squared_error, mean_absolute_error, r2_score\n",
    "from tensorflow import keras\n",
    "from sklearn.model_selection import train_test_split\n",
    "# ---------------------------\n",
    "# CARGAR LOS MODELOS (.keras)\n",
    "# ---------------------------\n",
    "model_BR = keras.models.load_model('modelo_reentrenado_keras_BR.keras')\n",
    "model_STB = keras.models.load_model('modelo_reentrenado_keras_STB.keras')\n"
   ]
  },
  {
   "cell_type": "code",
   "execution_count": 7,
   "id": "d6929c18",
   "metadata": {},
   "outputs": [],
   "source": [
    "# ---------------------------\n",
    "# CARGAR NUEVOS DATOS\n",
    "# ---------------------------\n",
    "df = pd.read_excel('NUAR-B_FEBRERO2025_CONVERTIO_1.xlsx', parse_dates=[\"DATE/TIME(America/Asuncion)\"])\n",
    "\n",
    "# Convertir fecha a datetime\n",
    "df['DATE/TIME(America/Asuncion)'] = pd.to_datetime(df['DATE/TIME(America/Asuncion)'], errors='coerce')\n",
    "\n",
    "# Extraer componentes de fecha y hora\n",
    "df['dia'] = df['DATE/TIME(America/Asuncion)'].dt.day\n",
    "df['mes'] = df['DATE/TIME(America/Asuncion)'].dt.month\n",
    "df['año'] = df['DATE/TIME(America/Asuncion)'].dt.year\n",
    "df['hora'] = df['DATE/TIME(America/Asuncion)'].dt.hour\n",
    "df['minuto'] = df['DATE/TIME(America/Asuncion)'].dt.minute\n",
    "df['segundo'] = df['DATE/TIME(America/Asuncion)'].dt.second\n",
    "\n",
    "# Eliminar columna de fecha\n",
    "df = df.drop('DATE/TIME(America/Asuncion)', axis=1)"
   ]
  },
  {
   "cell_type": "code",
   "execution_count": 8,
   "id": "f8973f66",
   "metadata": {},
   "outputs": [],
   "source": [
    "# Separar entradas (X) y salidas (y)\n",
    "X = df.drop(columns=[\"Flow Rate Prop. BR\", \"Flow Rate Prop. STB\"])\n",
    "y = df[[\"Flow Rate Prop. BR\", \"Flow Rate Prop. STB\"]]\n",
    "\n",
    "# Imputar valores nulos con la mediana\n",
    "imputer = SimpleImputer(strategy=\"median\")\n",
    "X_imputed = pd.DataFrame(imputer.fit_transform(X), columns=X.columns)\n",
    "y_imputed = pd.DataFrame(imputer.fit_transform(y), columns=y.columns)\n",
    "\n",
    "# Dividir en entrenamiento y prueba (mismo índice para ambos targets)\n",
    "X_train, X_test, y_train, y_test = train_test_split(X_imputed, y_imputed, test_size=0.1, random_state=24)\n",
    "\n",
    "y_train_BR = y_train[\"Flow Rate Prop. BR\"]\n",
    "y_test_BR = y_test[\"Flow Rate Prop. BR\"]\n",
    "y_train_STB = y_train[\"Flow Rate Prop. STB\"]\n",
    "y_test_STB = y_test[\"Flow Rate Prop. STB\"]\n",
    "\n"
   ]
  },
  {
   "cell_type": "code",
   "execution_count": 9,
   "id": "73a8bece",
   "metadata": {},
   "outputs": [
    {
     "name": "stdout",
     "output_type": "stream",
     "text": [
      "\u001b[1m12/12\u001b[0m \u001b[32m━━━━━━━━━━━━━━━━━━━━\u001b[0m\u001b[37m\u001b[0m \u001b[1m0s\u001b[0m 4ms/step \n",
      "\u001b[1m12/12\u001b[0m \u001b[32m━━━━━━━━━━━━━━━━━━━━\u001b[0m\u001b[37m\u001b[0m \u001b[1m0s\u001b[0m 3ms/step \n"
     ]
    }
   ],
   "source": [
    "# Escalar datos como en el entrenamiento\n",
    "scaler_X = StandardScaler()\n",
    "scaler_X.fit(X_train)  # Entrenar el scaler con los datos de training\n",
    "X_train_scaled = scaler_X.transform(X_train)\n",
    "X_test_scaled = scaler_X.transform(X_test)\n",
    "\n",
    "# Escalado de Y (los targets)\n",
    "scaler_y_BR = StandardScaler()\n",
    "scaler_y_STB = StandardScaler()\n",
    "\n",
    "y_train_BR_scaled = scaler_y_BR.fit_transform(y_train_BR.values.reshape(-1, 1))\n",
    "y_test_BR_scaled = scaler_y_BR.transform(y_test_BR.values.reshape(-1, 1))\n",
    "\n",
    "y_train_STB_scaled = scaler_y_STB.fit_transform(y_train_STB.values.reshape(-1, 1))\n",
    "y_test_STB_scaled = scaler_y_STB.transform(y_test_STB.values.reshape(-1, 1))\n",
    "\n",
    "\n",
    "# Predecir\n",
    "y_pred_BR_scaled = model_BR.predict(X_test_scaled)\n",
    "y_pred_STB_scaled = model_STB.predict(X_test_scaled)\n",
    "\n"
   ]
  },
  {
   "cell_type": "code",
   "execution_count": 10,
   "id": "0ee856ff",
   "metadata": {},
   "outputs": [],
   "source": [
    "# Invertir escala\n",
    "y_pred_BR_inv = scaler_y_BR.inverse_transform(y_pred_BR_scaled)\n",
    "y_test_BR_inv = scaler_y_BR.inverse_transform(y_test_BR_scaled)\n",
    "\n",
    "y_pred_STB_inv = scaler_y_STB.inverse_transform(y_pred_STB_scaled)\n",
    "y_test_STB_inv = scaler_y_STB.inverse_transform(y_test_STB_scaled)"
   ]
  },
  {
   "cell_type": "code",
   "execution_count": 11,
   "id": "bddc9bd8",
   "metadata": {},
   "outputs": [
    {
     "name": "stdout",
     "output_type": "stream",
     "text": [
      "Flow Rate Prop. BR:\n",
      "MAE: 2.26\n",
      "MSE: 40.19\n",
      "RMSE: 6.34\n",
      "R²: 0.9861\n",
      "\n",
      "Flow Rate Prop. STB:\n",
      "MAE: 2.81\n",
      "MSE: 88.79\n",
      "RMSE: 9.42\n",
      "R²: 0.9648\n"
     ]
    }
   ],
   "source": [
    "# Métricas reales\n",
    "print(\"Flow Rate Prop. BR:\")\n",
    "print(f\"MAE: {mean_absolute_error(y_test_BR_inv, y_pred_BR_inv):.2f}\")\n",
    "print(f\"MSE: {mean_squared_error(y_test_BR_inv, y_pred_BR_inv):.2f}\")\n",
    "print(f\"RMSE: {np.sqrt(mean_squared_error(y_test_BR_inv, y_pred_BR_inv)):.2f}\")\n",
    "print(f\"R²: {r2_score(y_test_BR_inv, y_pred_BR_inv):.4f}\\n\")\n",
    "\n",
    "print(\"Flow Rate Prop. STB:\")\n",
    "print(f\"MAE: {mean_absolute_error(y_test_STB_inv, y_pred_STB_inv):.2f}\")\n",
    "print(f\"MSE: {mean_squared_error(y_test_STB_inv, y_pred_STB_inv):.2f}\")\n",
    "print(f\"RMSE: {np.sqrt(mean_squared_error(y_test_STB_inv, y_pred_STB_inv)):.2f}\")\n",
    "print(f\"R²: {r2_score(y_test_STB_inv, y_pred_STB_inv):.4f}\")"
   ]
  },
  {
   "cell_type": "code",
   "execution_count": null,
   "id": "6416b0ec",
   "metadata": {},
   "outputs": [],
   "source": []
  }
 ],
 "metadata": {
  "kernelspec": {
   "display_name": "py310",
   "language": "python",
   "name": "py310"
  },
  "language_info": {
   "codemirror_mode": {
    "name": "ipython",
    "version": 3
   },
   "file_extension": ".py",
   "mimetype": "text/x-python",
   "name": "python",
   "nbconvert_exporter": "python",
   "pygments_lexer": "ipython3",
   "version": "3.10.16"
  }
 },
 "nbformat": 4,
 "nbformat_minor": 5
}
